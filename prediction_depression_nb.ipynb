{
  "cells": [
    {
      "cell_type": "markdown",
      "metadata": {
        "id": "I5TN4kfmI7Ff"
      },
      "source": [
        "FACULTAD DE INGENIERÍA\n",
        "APRENDIZAJE AUTOMATICO\n",
        "PROFESOR: FRANCISCO JOSÉ MERCADO\n",
        "ESTUDIANTE: JONATHAN GIRALDO DIAZ ORTEGA\n",
        "PROYECTO: Predicción de depresión en estudiantes: Análisis de factores demográficos, académicos y de estilo de vida."
      ]
    },
    {
      "cell_type": "markdown",
      "metadata": {
        "id": "Y1Zq8BbKNecD"
      },
      "source": [
        "## Importación de librerias"
      ]
    },
    {
      "cell_type": "code",
      "execution_count": 27,
      "metadata": {
        "id": "LfheL7iFT0E9"
      },
      "outputs": [],
      "source": [
        "import numpy as np\n",
        "import pandas as pd\n",
        "import matplotlib.pyplot as plt\n",
        "import seaborn as sns\n",
        "from sklearn.linear_model import LinearRegression"
      ]
    },
    {
      "cell_type": "markdown",
      "metadata": {
        "id": "TYkIVhN-NpB1"
      },
      "source": [
        "### Cargando data set"
      ]
    },
    {
      "cell_type": "code",
      "execution_count": 28,
      "metadata": {
        "colab": {
          "base_uri": "https://localhost:8080/",
          "height": 206
        },
        "id": "6l_YbjNXNsnP",
        "outputId": "68d85c02-cf86-4eca-d763-83fd14980f60"
      },
      "outputs": [
        {
          "name": "stderr",
          "output_type": "stream",
          "text": [
            "<>:1: SyntaxWarning: invalid escape sequence '\\s'\n",
            "<>:1: SyntaxWarning: invalid escape sequence '\\s'\n",
            "C:\\Users\\JonathanGiraldoDiazO\\AppData\\Local\\Temp\\ipykernel_50476\\2699448579.py:1: SyntaxWarning: invalid escape sequence '\\s'\n",
            "  df = pd.read_csv('Data\\student_depression_dataset.csv', sep=',')\n"
          ]
        },
        {
          "data": {
            "text/html": [
              "<div>\n",
              "<style scoped>\n",
              "    .dataframe tbody tr th:only-of-type {\n",
              "        vertical-align: middle;\n",
              "    }\n",
              "\n",
              "    .dataframe tbody tr th {\n",
              "        vertical-align: top;\n",
              "    }\n",
              "\n",
              "    .dataframe thead th {\n",
              "        text-align: right;\n",
              "    }\n",
              "</style>\n",
              "<table border=\"1\" class=\"dataframe\">\n",
              "  <thead>\n",
              "    <tr style=\"text-align: right;\">\n",
              "      <th></th>\n",
              "      <th>id</th>\n",
              "      <th>Gender</th>\n",
              "      <th>Age</th>\n",
              "      <th>City</th>\n",
              "      <th>Profession</th>\n",
              "      <th>Academic Pressure</th>\n",
              "      <th>Work Pressure</th>\n",
              "      <th>CGPA</th>\n",
              "      <th>Study Satisfaction</th>\n",
              "      <th>Job Satisfaction</th>\n",
              "      <th>Sleep Duration</th>\n",
              "      <th>Dietary Habits</th>\n",
              "      <th>Degree</th>\n",
              "      <th>Have you ever had suicidal thoughts ?</th>\n",
              "      <th>Work/Study Hours</th>\n",
              "      <th>Financial Stress</th>\n",
              "      <th>Family History of Mental Illness</th>\n",
              "      <th>Depression</th>\n",
              "    </tr>\n",
              "  </thead>\n",
              "  <tbody>\n",
              "    <tr>\n",
              "      <th>0</th>\n",
              "      <td>2</td>\n",
              "      <td>Male</td>\n",
              "      <td>33.0</td>\n",
              "      <td>Visakhapatnam</td>\n",
              "      <td>Student</td>\n",
              "      <td>5.0</td>\n",
              "      <td>0.0</td>\n",
              "      <td>8.97</td>\n",
              "      <td>2.0</td>\n",
              "      <td>0.0</td>\n",
              "      <td>'5-6 hours'</td>\n",
              "      <td>Healthy</td>\n",
              "      <td>B.Pharm</td>\n",
              "      <td>Yes</td>\n",
              "      <td>3.0</td>\n",
              "      <td>1.0</td>\n",
              "      <td>No</td>\n",
              "      <td>1</td>\n",
              "    </tr>\n",
              "    <tr>\n",
              "      <th>1</th>\n",
              "      <td>8</td>\n",
              "      <td>Female</td>\n",
              "      <td>24.0</td>\n",
              "      <td>Bangalore</td>\n",
              "      <td>Student</td>\n",
              "      <td>2.0</td>\n",
              "      <td>0.0</td>\n",
              "      <td>5.90</td>\n",
              "      <td>5.0</td>\n",
              "      <td>0.0</td>\n",
              "      <td>'5-6 hours'</td>\n",
              "      <td>Moderate</td>\n",
              "      <td>BSc</td>\n",
              "      <td>No</td>\n",
              "      <td>3.0</td>\n",
              "      <td>2.0</td>\n",
              "      <td>Yes</td>\n",
              "      <td>0</td>\n",
              "    </tr>\n",
              "    <tr>\n",
              "      <th>2</th>\n",
              "      <td>26</td>\n",
              "      <td>Male</td>\n",
              "      <td>31.0</td>\n",
              "      <td>Srinagar</td>\n",
              "      <td>Student</td>\n",
              "      <td>3.0</td>\n",
              "      <td>0.0</td>\n",
              "      <td>7.03</td>\n",
              "      <td>5.0</td>\n",
              "      <td>0.0</td>\n",
              "      <td>'Less than 5 hours'</td>\n",
              "      <td>Healthy</td>\n",
              "      <td>BA</td>\n",
              "      <td>No</td>\n",
              "      <td>9.0</td>\n",
              "      <td>1.0</td>\n",
              "      <td>Yes</td>\n",
              "      <td>0</td>\n",
              "    </tr>\n",
              "    <tr>\n",
              "      <th>3</th>\n",
              "      <td>30</td>\n",
              "      <td>Female</td>\n",
              "      <td>28.0</td>\n",
              "      <td>Varanasi</td>\n",
              "      <td>Student</td>\n",
              "      <td>3.0</td>\n",
              "      <td>0.0</td>\n",
              "      <td>5.59</td>\n",
              "      <td>2.0</td>\n",
              "      <td>0.0</td>\n",
              "      <td>'7-8 hours'</td>\n",
              "      <td>Moderate</td>\n",
              "      <td>BCA</td>\n",
              "      <td>Yes</td>\n",
              "      <td>4.0</td>\n",
              "      <td>5.0</td>\n",
              "      <td>Yes</td>\n",
              "      <td>1</td>\n",
              "    </tr>\n",
              "    <tr>\n",
              "      <th>4</th>\n",
              "      <td>32</td>\n",
              "      <td>Female</td>\n",
              "      <td>25.0</td>\n",
              "      <td>Jaipur</td>\n",
              "      <td>Student</td>\n",
              "      <td>4.0</td>\n",
              "      <td>0.0</td>\n",
              "      <td>8.13</td>\n",
              "      <td>3.0</td>\n",
              "      <td>0.0</td>\n",
              "      <td>'5-6 hours'</td>\n",
              "      <td>Moderate</td>\n",
              "      <td>M.Tech</td>\n",
              "      <td>Yes</td>\n",
              "      <td>1.0</td>\n",
              "      <td>1.0</td>\n",
              "      <td>No</td>\n",
              "      <td>0</td>\n",
              "    </tr>\n",
              "  </tbody>\n",
              "</table>\n",
              "</div>"
            ],
            "text/plain": [
              "   id  Gender   Age           City Profession  Academic Pressure  \\\n",
              "0   2    Male  33.0  Visakhapatnam    Student                5.0   \n",
              "1   8  Female  24.0      Bangalore    Student                2.0   \n",
              "2  26    Male  31.0       Srinagar    Student                3.0   \n",
              "3  30  Female  28.0       Varanasi    Student                3.0   \n",
              "4  32  Female  25.0         Jaipur    Student                4.0   \n",
              "\n",
              "   Work Pressure  CGPA  Study Satisfaction  Job Satisfaction  \\\n",
              "0            0.0  8.97                 2.0               0.0   \n",
              "1            0.0  5.90                 5.0               0.0   \n",
              "2            0.0  7.03                 5.0               0.0   \n",
              "3            0.0  5.59                 2.0               0.0   \n",
              "4            0.0  8.13                 3.0               0.0   \n",
              "\n",
              "        Sleep Duration Dietary Habits   Degree  \\\n",
              "0          '5-6 hours'        Healthy  B.Pharm   \n",
              "1          '5-6 hours'       Moderate      BSc   \n",
              "2  'Less than 5 hours'        Healthy       BA   \n",
              "3          '7-8 hours'       Moderate      BCA   \n",
              "4          '5-6 hours'       Moderate   M.Tech   \n",
              "\n",
              "  Have you ever had suicidal thoughts ?  Work/Study Hours Financial Stress  \\\n",
              "0                                   Yes               3.0              1.0   \n",
              "1                                    No               3.0              2.0   \n",
              "2                                    No               9.0              1.0   \n",
              "3                                   Yes               4.0              5.0   \n",
              "4                                   Yes               1.0              1.0   \n",
              "\n",
              "  Family History of Mental Illness  Depression  \n",
              "0                               No           1  \n",
              "1                              Yes           0  \n",
              "2                              Yes           0  \n",
              "3                              Yes           1  \n",
              "4                               No           0  "
            ]
          },
          "execution_count": 28,
          "metadata": {},
          "output_type": "execute_result"
        }
      ],
      "source": [
        "df = pd.read_csv('Data\\student_depression_dataset.csv', sep=',')\n",
        "#df.columns = ['mpg', 'cylinders', 'displacement', 'horsepower', 'weight', 'acceleration', 'model_year', 'origin', 'car_name']\n",
        "df.head()"
      ]
    },
    {
      "cell_type": "code",
      "execution_count": 29,
      "metadata": {
        "colab": {
          "base_uri": "https://localhost:8080/",
          "height": 206
        },
        "id": "kGe2YQn9OV0R",
        "outputId": "45f6e720-dd08-4921-fed2-69ec0b271d99"
      },
      "outputs": [
        {
          "data": {
            "text/html": [
              "<div>\n",
              "<style scoped>\n",
              "    .dataframe tbody tr th:only-of-type {\n",
              "        vertical-align: middle;\n",
              "    }\n",
              "\n",
              "    .dataframe tbody tr th {\n",
              "        vertical-align: top;\n",
              "    }\n",
              "\n",
              "    .dataframe thead th {\n",
              "        text-align: right;\n",
              "    }\n",
              "</style>\n",
              "<table border=\"1\" class=\"dataframe\">\n",
              "  <thead>\n",
              "    <tr style=\"text-align: right;\">\n",
              "      <th></th>\n",
              "      <th>id</th>\n",
              "      <th>Gender</th>\n",
              "      <th>Age</th>\n",
              "      <th>City</th>\n",
              "      <th>Profession</th>\n",
              "      <th>Academic Pressure</th>\n",
              "      <th>Work Pressure</th>\n",
              "      <th>CGPA</th>\n",
              "      <th>Study Satisfaction</th>\n",
              "      <th>Job Satisfaction</th>\n",
              "      <th>Sleep Duration</th>\n",
              "      <th>Dietary Habits</th>\n",
              "      <th>Degree</th>\n",
              "      <th>Have you ever had suicidal thoughts ?</th>\n",
              "      <th>Work/Study Hours</th>\n",
              "      <th>Financial Stress</th>\n",
              "      <th>Family History of Mental Illness</th>\n",
              "      <th>Depression</th>\n",
              "    </tr>\n",
              "  </thead>\n",
              "  <tbody>\n",
              "    <tr>\n",
              "      <th>27896</th>\n",
              "      <td>140685</td>\n",
              "      <td>Female</td>\n",
              "      <td>27.0</td>\n",
              "      <td>Surat</td>\n",
              "      <td>Student</td>\n",
              "      <td>5.0</td>\n",
              "      <td>0.0</td>\n",
              "      <td>5.75</td>\n",
              "      <td>5.0</td>\n",
              "      <td>0.0</td>\n",
              "      <td>'5-6 hours'</td>\n",
              "      <td>Unhealthy</td>\n",
              "      <td>'Class 12'</td>\n",
              "      <td>Yes</td>\n",
              "      <td>7.0</td>\n",
              "      <td>1.0</td>\n",
              "      <td>Yes</td>\n",
              "      <td>0</td>\n",
              "    </tr>\n",
              "    <tr>\n",
              "      <th>27897</th>\n",
              "      <td>140686</td>\n",
              "      <td>Male</td>\n",
              "      <td>27.0</td>\n",
              "      <td>Ludhiana</td>\n",
              "      <td>Student</td>\n",
              "      <td>2.0</td>\n",
              "      <td>0.0</td>\n",
              "      <td>9.40</td>\n",
              "      <td>3.0</td>\n",
              "      <td>0.0</td>\n",
              "      <td>'Less than 5 hours'</td>\n",
              "      <td>Healthy</td>\n",
              "      <td>MSc</td>\n",
              "      <td>No</td>\n",
              "      <td>0.0</td>\n",
              "      <td>3.0</td>\n",
              "      <td>Yes</td>\n",
              "      <td>0</td>\n",
              "    </tr>\n",
              "    <tr>\n",
              "      <th>27898</th>\n",
              "      <td>140689</td>\n",
              "      <td>Male</td>\n",
              "      <td>31.0</td>\n",
              "      <td>Faridabad</td>\n",
              "      <td>Student</td>\n",
              "      <td>3.0</td>\n",
              "      <td>0.0</td>\n",
              "      <td>6.61</td>\n",
              "      <td>4.0</td>\n",
              "      <td>0.0</td>\n",
              "      <td>'5-6 hours'</td>\n",
              "      <td>Unhealthy</td>\n",
              "      <td>MD</td>\n",
              "      <td>No</td>\n",
              "      <td>12.0</td>\n",
              "      <td>2.0</td>\n",
              "      <td>No</td>\n",
              "      <td>0</td>\n",
              "    </tr>\n",
              "    <tr>\n",
              "      <th>27899</th>\n",
              "      <td>140690</td>\n",
              "      <td>Female</td>\n",
              "      <td>18.0</td>\n",
              "      <td>Ludhiana</td>\n",
              "      <td>Student</td>\n",
              "      <td>5.0</td>\n",
              "      <td>0.0</td>\n",
              "      <td>6.88</td>\n",
              "      <td>2.0</td>\n",
              "      <td>0.0</td>\n",
              "      <td>'Less than 5 hours'</td>\n",
              "      <td>Healthy</td>\n",
              "      <td>'Class 12'</td>\n",
              "      <td>Yes</td>\n",
              "      <td>10.0</td>\n",
              "      <td>5.0</td>\n",
              "      <td>No</td>\n",
              "      <td>1</td>\n",
              "    </tr>\n",
              "    <tr>\n",
              "      <th>27900</th>\n",
              "      <td>140699</td>\n",
              "      <td>Male</td>\n",
              "      <td>27.0</td>\n",
              "      <td>Patna</td>\n",
              "      <td>Student</td>\n",
              "      <td>4.0</td>\n",
              "      <td>0.0</td>\n",
              "      <td>9.24</td>\n",
              "      <td>1.0</td>\n",
              "      <td>0.0</td>\n",
              "      <td>'Less than 5 hours'</td>\n",
              "      <td>Healthy</td>\n",
              "      <td>BCA</td>\n",
              "      <td>Yes</td>\n",
              "      <td>2.0</td>\n",
              "      <td>3.0</td>\n",
              "      <td>Yes</td>\n",
              "      <td>1</td>\n",
              "    </tr>\n",
              "  </tbody>\n",
              "</table>\n",
              "</div>"
            ],
            "text/plain": [
              "           id  Gender   Age       City Profession  Academic Pressure  \\\n",
              "27896  140685  Female  27.0      Surat    Student                5.0   \n",
              "27897  140686    Male  27.0   Ludhiana    Student                2.0   \n",
              "27898  140689    Male  31.0  Faridabad    Student                3.0   \n",
              "27899  140690  Female  18.0   Ludhiana    Student                5.0   \n",
              "27900  140699    Male  27.0      Patna    Student                4.0   \n",
              "\n",
              "       Work Pressure  CGPA  Study Satisfaction  Job Satisfaction  \\\n",
              "27896            0.0  5.75                 5.0               0.0   \n",
              "27897            0.0  9.40                 3.0               0.0   \n",
              "27898            0.0  6.61                 4.0               0.0   \n",
              "27899            0.0  6.88                 2.0               0.0   \n",
              "27900            0.0  9.24                 1.0               0.0   \n",
              "\n",
              "            Sleep Duration Dietary Habits      Degree  \\\n",
              "27896          '5-6 hours'      Unhealthy  'Class 12'   \n",
              "27897  'Less than 5 hours'        Healthy         MSc   \n",
              "27898          '5-6 hours'      Unhealthy          MD   \n",
              "27899  'Less than 5 hours'        Healthy  'Class 12'   \n",
              "27900  'Less than 5 hours'        Healthy         BCA   \n",
              "\n",
              "      Have you ever had suicidal thoughts ?  Work/Study Hours  \\\n",
              "27896                                   Yes               7.0   \n",
              "27897                                    No               0.0   \n",
              "27898                                    No              12.0   \n",
              "27899                                   Yes              10.0   \n",
              "27900                                   Yes               2.0   \n",
              "\n",
              "      Financial Stress Family History of Mental Illness  Depression  \n",
              "27896              1.0                              Yes           0  \n",
              "27897              3.0                              Yes           0  \n",
              "27898              2.0                               No           0  \n",
              "27899              5.0                               No           1  \n",
              "27900              3.0                              Yes           1  "
            ]
          },
          "execution_count": 29,
          "metadata": {},
          "output_type": "execute_result"
        }
      ],
      "source": [
        "df.tail()"
      ]
    },
    {
      "cell_type": "markdown",
      "metadata": {
        "id": "v0p_Nm3wObxo"
      },
      "source": [
        "### Verificación de tipo de variables"
      ]
    },
    {
      "cell_type": "code",
      "execution_count": 30,
      "metadata": {
        "colab": {
          "base_uri": "https://localhost:8080/",
          "height": 366
        },
        "id": "vpp2oPMQOgGU",
        "outputId": "393d81b8-0f0b-4674-d4f1-76c5fb94f441"
      },
      "outputs": [
        {
          "data": {
            "text/plain": [
              "id                                         int64\n",
              "Gender                                    object\n",
              "Age                                      float64\n",
              "City                                      object\n",
              "Profession                                object\n",
              "Academic Pressure                        float64\n",
              "Work Pressure                            float64\n",
              "CGPA                                     float64\n",
              "Study Satisfaction                       float64\n",
              "Job Satisfaction                         float64\n",
              "Sleep Duration                            object\n",
              "Dietary Habits                            object\n",
              "Degree                                    object\n",
              "Have you ever had suicidal thoughts ?     object\n",
              "Work/Study Hours                         float64\n",
              "Financial Stress                          object\n",
              "Family History of Mental Illness          object\n",
              "Depression                                 int64\n",
              "dtype: object"
            ]
          },
          "execution_count": 30,
          "metadata": {},
          "output_type": "execute_result"
        }
      ],
      "source": [
        "df.dtypes"
      ]
    },
    {
      "cell_type": "code",
      "execution_count": 31,
      "metadata": {},
      "outputs": [
        {
          "name": "stdout",
          "output_type": "stream",
          "text": [
            "id                                       0\n",
            "Gender                                   0\n",
            "Age                                      0\n",
            "City                                     0\n",
            "Profession                               0\n",
            "Academic Pressure                        0\n",
            "Work Pressure                            0\n",
            "CGPA                                     0\n",
            "Study Satisfaction                       0\n",
            "Job Satisfaction                         0\n",
            "Sleep Duration                           0\n",
            "Dietary Habits                           0\n",
            "Degree                                   0\n",
            "Have you ever had suicidal thoughts ?    0\n",
            "Work/Study Hours                         0\n",
            "Financial Stress                         0\n",
            "Family History of Mental Illness         0\n",
            "Depression                               0\n",
            "dtype: int64\n"
          ]
        }
      ],
      "source": [
        "print(df.isnull().sum())"
      ]
    },
    {
      "cell_type": "code",
      "execution_count": 32,
      "metadata": {},
      "outputs": [],
      "source": [
        "# Aplicar one-hot encoding a las columnas categoricas yes/no\n",
        "df['Have you ever had suicidal thoughts ?'] = df['Have you ever had suicidal thoughts ?'].map({'Yes': 1, 'No': 0})\n",
        "df['Family History of Mental Illness'] = df['Family History of Mental Illness'].map({'Yes': 1, 'No': 0})"
      ]
    },
    {
      "cell_type": "code",
      "execution_count": 33,
      "metadata": {},
      "outputs": [],
      "source": [
        "import re\n",
        "\n",
        "def convertir_duracion(s):\n",
        "    # Buscar dos números (rango tipo '5-6 hours')\n",
        "    rango = re.findall(r'(\\d+)-(\\d+)', s)\n",
        "    if rango:\n",
        "        n1, n2 = map(int, rango[0])\n",
        "        return (n1 + n2) / 2\n",
        "\n",
        "    # Buscar un solo número\n",
        "    num = re.search(r'(\\d+)', s)\n",
        "    if num:\n",
        "        n = int(num.group(1))\n",
        "        if 'less' in s.lower():\n",
        "            return n - 0.5  # Ej: 'Less than 5' => 4.5\n",
        "        elif 'more' in s.lower():\n",
        "            return n + 0.5  # Ej: 'More than 8' => 8.5\n",
        "        else:\n",
        "            return float(n)  # Por si acaso hay algo como '5 hours' exacto\n",
        "\n",
        "    return None  # Por si no se puede interpretar\n",
        "\n",
        "# Aplicar la función\n",
        "df['Sleep Duration'] = df['Sleep Duration'].apply(convertir_duracion)\n",
        "\n"
      ]
    },
    {
      "cell_type": "code",
      "execution_count": 34,
      "metadata": {},
      "outputs": [],
      "source": [
        "# Diccionario de mapeo\n",
        "mapeo_dietario = {\n",
        "    'Healthy': 3,\n",
        "    'Moderate': 2,\n",
        "    'Unhealthy': 1\n",
        "}\n",
        "\n",
        "# Aplicar el mapeo\n",
        "df['Dietary Habits'] = df['Dietary Habits'].map(mapeo_dietario)"
      ]
    },
    {
      "cell_type": "code",
      "execution_count": 35,
      "metadata": {},
      "outputs": [],
      "source": [
        "# remplazamos valores nulos en la columna categorica Dietary Habits con la moda\n",
        "df['Dietary Habits'] = df['Dietary Habits'].fillna(df['Dietary Habits'].mode()[0])\n",
        "# remplazamos valores nulos en la columna categorica Sleep Duration  con la moda\n",
        "df['Sleep Duration'] = df['Sleep Duration'].fillna(df['Sleep Duration'].mode()[0])"
      ]
    },
    {
      "cell_type": "markdown",
      "metadata": {
        "id": "GNTcn7caP9sP"
      },
      "source": [
        "### Análisis estadistico"
      ]
    },
    {
      "cell_type": "code",
      "execution_count": 36,
      "metadata": {
        "colab": {
          "base_uri": "https://localhost:8080/",
          "height": 300
        },
        "id": "8IBmh0GzP5XF",
        "outputId": "126b17dd-1c08-49d3-a8be-1d1805ef2c0a"
      },
      "outputs": [
        {
          "data": {
            "text/html": [
              "<div>\n",
              "<style scoped>\n",
              "    .dataframe tbody tr th:only-of-type {\n",
              "        vertical-align: middle;\n",
              "    }\n",
              "\n",
              "    .dataframe tbody tr th {\n",
              "        vertical-align: top;\n",
              "    }\n",
              "\n",
              "    .dataframe thead th {\n",
              "        text-align: right;\n",
              "    }\n",
              "</style>\n",
              "<table border=\"1\" class=\"dataframe\">\n",
              "  <thead>\n",
              "    <tr style=\"text-align: right;\">\n",
              "      <th></th>\n",
              "      <th>id</th>\n",
              "      <th>Age</th>\n",
              "      <th>Academic Pressure</th>\n",
              "      <th>Work Pressure</th>\n",
              "      <th>CGPA</th>\n",
              "      <th>Study Satisfaction</th>\n",
              "      <th>Job Satisfaction</th>\n",
              "      <th>Sleep Duration</th>\n",
              "      <th>Dietary Habits</th>\n",
              "      <th>Have you ever had suicidal thoughts ?</th>\n",
              "      <th>Work/Study Hours</th>\n",
              "      <th>Family History of Mental Illness</th>\n",
              "      <th>Depression</th>\n",
              "    </tr>\n",
              "  </thead>\n",
              "  <tbody>\n",
              "    <tr>\n",
              "      <th>count</th>\n",
              "      <td>27901.000000</td>\n",
              "      <td>27901.000000</td>\n",
              "      <td>27901.000000</td>\n",
              "      <td>27901.000000</td>\n",
              "      <td>27901.000000</td>\n",
              "      <td>27901.000000</td>\n",
              "      <td>27901.000000</td>\n",
              "      <td>27901.000000</td>\n",
              "      <td>27901.000000</td>\n",
              "      <td>27901.000000</td>\n",
              "      <td>27901.000000</td>\n",
              "      <td>27901.000000</td>\n",
              "      <td>27901.000000</td>\n",
              "    </tr>\n",
              "    <tr>\n",
              "      <th>mean</th>\n",
              "      <td>70442.149421</td>\n",
              "      <td>25.822300</td>\n",
              "      <td>3.141214</td>\n",
              "      <td>0.000430</td>\n",
              "      <td>7.656104</td>\n",
              "      <td>2.943837</td>\n",
              "      <td>0.000681</td>\n",
              "      <td>6.377961</td>\n",
              "      <td>1.904018</td>\n",
              "      <td>0.632809</td>\n",
              "      <td>7.156984</td>\n",
              "      <td>0.483961</td>\n",
              "      <td>0.585499</td>\n",
              "    </tr>\n",
              "    <tr>\n",
              "      <th>std</th>\n",
              "      <td>40641.175216</td>\n",
              "      <td>4.905687</td>\n",
              "      <td>1.381465</td>\n",
              "      <td>0.043992</td>\n",
              "      <td>1.470707</td>\n",
              "      <td>1.361148</td>\n",
              "      <td>0.044394</td>\n",
              "      <td>1.590760</td>\n",
              "      <td>0.797014</td>\n",
              "      <td>0.482048</td>\n",
              "      <td>3.707642</td>\n",
              "      <td>0.499752</td>\n",
              "      <td>0.492645</td>\n",
              "    </tr>\n",
              "    <tr>\n",
              "      <th>min</th>\n",
              "      <td>2.000000</td>\n",
              "      <td>18.000000</td>\n",
              "      <td>0.000000</td>\n",
              "      <td>0.000000</td>\n",
              "      <td>0.000000</td>\n",
              "      <td>0.000000</td>\n",
              "      <td>0.000000</td>\n",
              "      <td>4.500000</td>\n",
              "      <td>1.000000</td>\n",
              "      <td>0.000000</td>\n",
              "      <td>0.000000</td>\n",
              "      <td>0.000000</td>\n",
              "      <td>0.000000</td>\n",
              "    </tr>\n",
              "    <tr>\n",
              "      <th>25%</th>\n",
              "      <td>35039.000000</td>\n",
              "      <td>21.000000</td>\n",
              "      <td>2.000000</td>\n",
              "      <td>0.000000</td>\n",
              "      <td>6.290000</td>\n",
              "      <td>2.000000</td>\n",
              "      <td>0.000000</td>\n",
              "      <td>4.500000</td>\n",
              "      <td>1.000000</td>\n",
              "      <td>0.000000</td>\n",
              "      <td>4.000000</td>\n",
              "      <td>0.000000</td>\n",
              "      <td>0.000000</td>\n",
              "    </tr>\n",
              "    <tr>\n",
              "      <th>50%</th>\n",
              "      <td>70684.000000</td>\n",
              "      <td>25.000000</td>\n",
              "      <td>3.000000</td>\n",
              "      <td>0.000000</td>\n",
              "      <td>7.770000</td>\n",
              "      <td>3.000000</td>\n",
              "      <td>0.000000</td>\n",
              "      <td>5.500000</td>\n",
              "      <td>2.000000</td>\n",
              "      <td>1.000000</td>\n",
              "      <td>8.000000</td>\n",
              "      <td>0.000000</td>\n",
              "      <td>1.000000</td>\n",
              "    </tr>\n",
              "    <tr>\n",
              "      <th>75%</th>\n",
              "      <td>105818.000000</td>\n",
              "      <td>30.000000</td>\n",
              "      <td>4.000000</td>\n",
              "      <td>0.000000</td>\n",
              "      <td>8.920000</td>\n",
              "      <td>4.000000</td>\n",
              "      <td>0.000000</td>\n",
              "      <td>7.500000</td>\n",
              "      <td>3.000000</td>\n",
              "      <td>1.000000</td>\n",
              "      <td>10.000000</td>\n",
              "      <td>1.000000</td>\n",
              "      <td>1.000000</td>\n",
              "    </tr>\n",
              "    <tr>\n",
              "      <th>max</th>\n",
              "      <td>140699.000000</td>\n",
              "      <td>59.000000</td>\n",
              "      <td>5.000000</td>\n",
              "      <td>5.000000</td>\n",
              "      <td>10.000000</td>\n",
              "      <td>5.000000</td>\n",
              "      <td>4.000000</td>\n",
              "      <td>8.500000</td>\n",
              "      <td>3.000000</td>\n",
              "      <td>1.000000</td>\n",
              "      <td>12.000000</td>\n",
              "      <td>1.000000</td>\n",
              "      <td>1.000000</td>\n",
              "    </tr>\n",
              "  </tbody>\n",
              "</table>\n",
              "</div>"
            ],
            "text/plain": [
              "                  id           Age  Academic Pressure  Work Pressure  \\\n",
              "count   27901.000000  27901.000000       27901.000000   27901.000000   \n",
              "mean    70442.149421     25.822300           3.141214       0.000430   \n",
              "std     40641.175216      4.905687           1.381465       0.043992   \n",
              "min         2.000000     18.000000           0.000000       0.000000   \n",
              "25%     35039.000000     21.000000           2.000000       0.000000   \n",
              "50%     70684.000000     25.000000           3.000000       0.000000   \n",
              "75%    105818.000000     30.000000           4.000000       0.000000   \n",
              "max    140699.000000     59.000000           5.000000       5.000000   \n",
              "\n",
              "               CGPA  Study Satisfaction  Job Satisfaction  Sleep Duration  \\\n",
              "count  27901.000000        27901.000000      27901.000000    27901.000000   \n",
              "mean       7.656104            2.943837          0.000681        6.377961   \n",
              "std        1.470707            1.361148          0.044394        1.590760   \n",
              "min        0.000000            0.000000          0.000000        4.500000   \n",
              "25%        6.290000            2.000000          0.000000        4.500000   \n",
              "50%        7.770000            3.000000          0.000000        5.500000   \n",
              "75%        8.920000            4.000000          0.000000        7.500000   \n",
              "max       10.000000            5.000000          4.000000        8.500000   \n",
              "\n",
              "       Dietary Habits  Have you ever had suicidal thoughts ?  \\\n",
              "count    27901.000000                           27901.000000   \n",
              "mean         1.904018                               0.632809   \n",
              "std          0.797014                               0.482048   \n",
              "min          1.000000                               0.000000   \n",
              "25%          1.000000                               0.000000   \n",
              "50%          2.000000                               1.000000   \n",
              "75%          3.000000                               1.000000   \n",
              "max          3.000000                               1.000000   \n",
              "\n",
              "       Work/Study Hours  Family History of Mental Illness    Depression  \n",
              "count      27901.000000                      27901.000000  27901.000000  \n",
              "mean           7.156984                          0.483961      0.585499  \n",
              "std            3.707642                          0.499752      0.492645  \n",
              "min            0.000000                          0.000000      0.000000  \n",
              "25%            4.000000                          0.000000      0.000000  \n",
              "50%            8.000000                          0.000000      1.000000  \n",
              "75%           10.000000                          1.000000      1.000000  \n",
              "max           12.000000                          1.000000      1.000000  "
            ]
          },
          "execution_count": 36,
          "metadata": {},
          "output_type": "execute_result"
        }
      ],
      "source": [
        "df.describe()"
      ]
    },
    {
      "cell_type": "markdown",
      "metadata": {
        "id": "F2TLJS84jeZh"
      },
      "source": [
        "### Identificando y tratando datos atipicos/outlayers"
      ]
    },
    {
      "cell_type": "code",
      "execution_count": 37,
      "metadata": {
        "id": "606wO8Nzi9e2"
      },
      "outputs": [],
      "source": [
        "Q1 = df.quantile(0.25, numeric_only=True)\n",
        "Q3 = df.quantile(0.75, numeric_only=True)\n",
        "IQR = Q3 - Q1\n",
        "\n",
        "df_transformado = df[~(\n",
        "                        (df.select_dtypes(include='number') < (Q1 - IQR*1.5))\n",
        "                        |\n",
        "                        (df.select_dtypes(include='number') > (Q3 + IQR*1.5))\n",
        "                       ).any(axis=1)]\n",
        "\n"
      ]
    },
    {
      "cell_type": "code",
      "execution_count": 38,
      "metadata": {
        "colab": {
          "base_uri": "https://localhost:8080/"
        },
        "id": "ZWk37zeolm0o",
        "outputId": "f0b3b981-9f15-4c01-d375-49de702f879a"
      },
      "outputs": [
        {
          "name": "stdout",
          "output_type": "stream",
          "text": [
            "(27878, 18)\n"
          ]
        }
      ],
      "source": [
        "print(df_transformado.shape)"
      ]
    },
    {
      "cell_type": "markdown",
      "metadata": {
        "id": "D6gWgif1lyWL"
      },
      "source": [
        "### Matriz de correlación"
      ]
    },
    {
      "cell_type": "code",
      "execution_count": null,
      "metadata": {},
      "outputs": [],
      "source": [
        "matriz_correlacion = df_transformado.corr(numeric_only=True)\n",
        "plt.figure(figsize=(10, 10))\n",
        "sns.heatmap(matriz_correlacion, annot=True)\n",
        "plt.show()"
      ]
    },
    {
      "cell_type": "code",
      "execution_count": 14,
      "metadata": {},
      "outputs": [],
      "source": [
        "import pandas as pd\n",
        "import numpy as np\n",
        "from sklearn.model_selection import train_test_split\n",
        "from sklearn.preprocessing import MinMaxScaler\n",
        "from sklearn.linear_model import LogisticRegression\n",
        "from sklearn.tree import DecisionTreeClassifier\n",
        "from sklearn.ensemble import RandomForestClassifier\n",
        "from sklearn.metrics import accuracy_score, f1_score, roc_auc_score, classification_report\n"
      ]
    },
    {
      "cell_type": "code",
      "execution_count": null,
      "metadata": {},
      "outputs": [],
      "source": [
        "# Selección de variables X e y\n",
        "cols_x = [\n",
        "    'Age',\n",
        "    'Academic Pressure',\n",
        "    'Work Pressure',\n",
        "    'CGPA',\n",
        "    'Study Satisfaction',\n",
        "    'Job Satisfaction',\n",
        "    'Sleep Duration',\n",
        "    'Dietary Habits',\n",
        "    'Have you ever had suicidal thoughts ?',\n",
        "    'Work/Study Hours',\n",
        "    'Family History of Mental Illness'\n",
        "]\n",
        "\n",
        "# Filtrar solo columnas requeridas\n",
        "df_model = df_transformado[cols_x + ['Depression']].copy()\n",
        "\n",
        "# Convertir a numérico las variables categóricas\n",
        "# Verificamos si están como texto y las mapeamos\n",
        "if df_model['Have you ever had suicidal thoughts ?'].dtype == 'object':\n",
        "    df_model['Have you ever had suicidal thoughts ?'] = df_model['Have you ever had suicidal thoughts ?'].map({'Yes': 1, 'No': 0})\n",
        "\n",
        "if df_model['Family History of Mental Illness'].dtype == 'object':\n",
        "    df_model['Family History of Mental Illness'] = df_model['Family History of Mental Illness'].map({'Yes': 1, 'No': 0})\n",
        "\n",
        "# En caso de que Sleep Duration y Dietary Habits no sean numéricos\n",
        "if df_model['Sleep Duration'].dtype == 'object':\n",
        "    df_model = pd.get_dummies(df_model, columns=['Sleep Duration'])\n",
        "\n",
        "if df_model['Dietary Habits'].dtype == 'object':\n",
        "    df_model = pd.get_dummies(df_model, columns=['Dietary Habits'])\n",
        "\n",
        "# Separar X e y\n",
        "X = df_model.drop(columns=['Depression'])\n",
        "y = df_model['Depression']\n",
        "\n",
        "# Normalizar\n",
        "scaler = MinMaxScaler()\n",
        "X_scaled = scaler.fit_transform(X)\n",
        "\n",
        "# División de datos\n",
        "from sklearn.model_selection import train_test_split\n",
        "X_train, X_test, y_train, y_test = train_test_split(X_scaled, y, test_size=0.25, random_state=42)\n"
      ]
    },
    {
      "cell_type": "markdown",
      "metadata": {},
      "source": [
        "## Regresión logistica"
      ]
    },
    {
      "cell_type": "code",
      "execution_count": null,
      "metadata": {},
      "outputs": [
        {
          "name": "stdout",
          "output_type": "stream",
          "text": [
            "Accuracy: 0.82\n",
            "F1 Score: 0.85\n",
            "ROC AUC: 0.81\n",
            "              precision    recall  f1-score   support\n",
            "\n",
            "           0       0.81      0.75      0.78      2898\n",
            "           1       0.83      0.88      0.85      4072\n",
            "\n",
            "    accuracy                           0.82      6970\n",
            "   macro avg       0.82      0.81      0.82      6970\n",
            "weighted avg       0.82      0.82      0.82      6970\n",
            "\n"
          ]
        },
        {
          "name": "stderr",
          "output_type": "stream",
          "text": [
            "c:\\Users\\JonathanGiraldoDiazO\\AppData\\Local\\Programs\\Python\\Python312\\Lib\\site-packages\\sklearn\\metrics\\_plot\\roc_curve.py:189: UserWarning: No artists with labels found to put in legend.  Note that artists whose label start with an underscore are ignored when legend() is called with no argument.\n",
            "  self.ax_.legend(loc=\"lower right\")\n"
          ]
        },
        {
          "data": {
            "image/png": "[encoded data removed]",
            "text/plain": [
              "<Figure size 640x480 with 1 Axes>"
            ]
          },
          "metadata": {},
          "output_type": "display_data"
        }
      ],
      "source": [
        "log_model = LogisticRegression(max_iter=1000)\n",
        "log_model.fit(X_train, y_train)\n",
        "y_pred_log = log_model.predict(X_test)\n",
        "\n",
        "print(f\"Accuracy: {accuracy_score(y_test, y_pred_log):.2f}\")\n",
        "print(f\"F1 Score: {f1_score(y_test, y_pred_log, zero_division=0):.2f}\")\n",
        "try:\n",
        "    print(f\"ROC AUC: {roc_auc_score(y_test, y_pred_log):.2f}\")\n",
        "except ValueError:\n",
        "    print(\"ROC AUC: No definido (una sola clase en test)\")\n",
        "print(classification_report(y_test, y_pred_log, zero_division=0))\n",
        "\n",
        "\n",
        "\n",
        "from sklearn.metrics import roc_curve, RocCurveDisplay\n",
        "# Curva ROC\n",
        "if hasattr(log_model, \"predict_proba\"):\n",
        "    y_proba = log_model.predict_proba(X_test)[:, 1]\n",
        "    fpr, tpr, _ = roc_curve(y_test, y_proba)\n",
        "    RocCurveDisplay(fpr=fpr, tpr=tpr).plot()\n",
        "    plt.show()\n"
      ]
    },
    {
      "cell_type": "markdown",
      "metadata": {},
      "source": [
        "## Arbol de decisión"
      ]
    },
    {
      "cell_type": "code",
      "execution_count": 25,
      "metadata": {},
      "outputs": [
        {
          "name": "stdout",
          "output_type": "stream",
          "text": [
            "Accuracy: 0.75\n",
            "F1 Score: 0.78\n",
            "ROC AUC: 0.74\n",
            "              precision    recall  f1-score   support\n",
            "\n",
            "           0       0.70      0.69      0.69      2898\n",
            "           1       0.78      0.79      0.78      4072\n",
            "\n",
            "    accuracy                           0.75      6970\n",
            "   macro avg       0.74      0.74      0.74      6970\n",
            "weighted avg       0.75      0.75      0.75      6970\n",
            "\n"
          ]
        },
        {
          "name": "stderr",
          "output_type": "stream",
          "text": [
            "c:\\Users\\JonathanGiraldoDiazO\\AppData\\Local\\Programs\\Python\\Python312\\Lib\\site-packages\\sklearn\\metrics\\_plot\\roc_curve.py:189: UserWarning: No artists with labels found to put in legend.  Note that artists whose label start with an underscore are ignored when legend() is called with no argument.\n",
            "  self.ax_.legend(loc=\"lower right\")\n"
          ]
        },
        {
          "data": {
            "image/png": "[encoded data removed]",
            "text/plain": [
              "<Figure size 640x480 with 1 Axes>"
            ]
          },
          "metadata": {},
          "output_type": "display_data"
        }
      ],
      "source": [
        "from sklearn.tree import DecisionTreeClassifier, plot_tree\n",
        "\n",
        "\n",
        "tree_model = DecisionTreeClassifier(random_state=42)\n",
        "tree_model.fit(X_train, y_train)\n",
        "y_pred_tree = tree_model.predict(X_test)\n",
        "\n",
        "print(f\"Accuracy: {accuracy_score(y_test, y_pred_tree):.2f}\")\n",
        "print(f\"F1 Score: {f1_score(y_test, y_pred_tree, zero_division=0):.2f}\")\n",
        "try:\n",
        "    print(f\"ROC AUC: {roc_auc_score(y_test, y_pred_tree):.2f}\")\n",
        "except ValueError:\n",
        "    print(\"ROC AUC: No definido (una sola clase en test)\")\n",
        "print(classification_report(y_test, y_pred_tree, zero_division=0))\n",
        "\n",
        "\n",
        "# Curva ROC \n",
        "if hasattr(tree_model, \"predict_proba\") and len(np.unique(y_test)) == 2:\n",
        "    y_proba_tree = tree_model.predict_proba(X_test)[:, 1]\n",
        "    fpr, tpr, _ = roc_curve(y_test, y_proba_tree)\n",
        "    RocCurveDisplay(fpr=fpr, tpr=tpr).plot()\n",
        "    plt.title(\"Curva ROC - Árbol de Decisión\")\n",
        "    plt.show()\n",
        "\n",
        "\n"
      ]
    },
    {
      "cell_type": "markdown",
      "metadata": {},
      "source": [
        "## Random Forest"
      ]
    },
    {
      "cell_type": "code",
      "execution_count": 26,
      "metadata": {},
      "outputs": [
        {
          "name": "stdout",
          "output_type": "stream",
          "text": [
            "=== Random Forest ===\n",
            "Accuracy: 0.82\n",
            "F1 Score: 0.85\n",
            "ROC AUC: 0.81\n",
            "              precision    recall  f1-score   support\n",
            "\n",
            "           0       0.80      0.75      0.77      2898\n",
            "           1       0.83      0.86      0.85      4072\n",
            "\n",
            "    accuracy                           0.82      6970\n",
            "   macro avg       0.81      0.81      0.81      6970\n",
            "weighted avg       0.82      0.82      0.82      6970\n",
            "\n"
          ]
        },
        {
          "name": "stderr",
          "output_type": "stream",
          "text": [
            "c:\\Users\\JonathanGiraldoDiazO\\AppData\\Local\\Programs\\Python\\Python312\\Lib\\site-packages\\sklearn\\metrics\\_plot\\roc_curve.py:189: UserWarning: No artists with labels found to put in legend.  Note that artists whose label start with an underscore are ignored when legend() is called with no argument.\n",
            "  self.ax_.legend(loc=\"lower right\")\n"
          ]
        },
        {
          "data": {
            "image/png": "[encoded data removed]",
            "text/plain": [
              "<Figure size 640x480 with 1 Axes>"
            ]
          },
          "metadata": {},
          "output_type": "display_data"
        }
      ],
      "source": [
        "forest_model = RandomForestClassifier(n_estimators=100, random_state=42)\n",
        "forest_model.fit(X_train, y_train)\n",
        "y_pred_forest = forest_model.predict(X_test)\n",
        "\n",
        "print(\"=== Random Forest ===\")\n",
        "print(f\"Accuracy: {accuracy_score(y_test, y_pred_forest):.2f}\")\n",
        "print(f\"F1 Score: {f1_score(y_test, y_pred_forest, zero_division=0):.2f}\")\n",
        "try:\n",
        "    print(f\"ROC AUC: {roc_auc_score(y_test, y_pred_forest):.2f}\")\n",
        "except ValueError:\n",
        "    print(\"ROC AUC: No definido (una sola clase en test)\")\n",
        "print(classification_report(y_test, y_pred_forest, zero_division=0))\n",
        "\n",
        "\n",
        "# Curva ROC\n",
        "if hasattr(forest_model, \"predict_proba\") and len(np.unique(y_test)) == 2:\n",
        "    y_proba_forest = forest_model.predict_proba(X_test)[:, 1]\n",
        "    fpr, tpr, _ = roc_curve(y_test, y_proba_forest)\n",
        "    RocCurveDisplay(fpr=fpr, tpr=tpr).plot()\n",
        "    plt.title(\"Curva ROC - Random Forest\")\n",
        "    plt.show()\n"
      ]
    }
  ],
  "metadata": {
    "colab": {
      "provenance": []
    },
    "kernelspec": {
      "display_name": "Python 3",
      "name": "python3"
    },
    "language_info": {
      "codemirror_mode": {
        "name": "ipython",
        "version": 3
      },
      "file_extension": ".py",
      "mimetype": "text/x-python",
      "name": "python",
      "nbconvert_exporter": "python",
      "pygments_lexer": "ipython3",
      "version": "3.12.2"
    }
  },
  "nbformat": 4,
  "nbformat_minor": 0
}
